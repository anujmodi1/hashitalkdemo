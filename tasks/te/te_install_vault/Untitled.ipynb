{
 "cells": [
  {
   "cell_type": "code",
   "execution_count": null,
   "id": "741804bc",
   "metadata": {},
   "outputs": [],
   "source": [
    "#!/usr/bin/env python\n",
    "import json, re, sys, os, json, time, logging, requests, urllib3, paramiko\n",
    "urllib3.disable_warnings()\n",
    "from requests.structures import CaseInsensitiveDict\n",
    "import subprocess\n",
    "from subprocess import call, check_output\n",
    "\n",
    "VAULT_ADDR = 'http://dev-vault.devops-ontap.com:8200'\n",
    "VAULT_TOKEN = 'hvs.CAESIIdwYYkVilZF-ltcsbMqKUQX5Mb_omKKQUFzSFwo8gohGh4KHGh2cy5rTVR0SFJlNDVKNkZFOEZlQW5TSlJmNFY'\n",
    "device = '35.88.147.17'\n",
    "\n"
   ]
  }
 ],
 "metadata": {
  "kernelspec": {
   "display_name": "Python 3 (ipykernel)",
   "language": "python",
   "name": "python3"
  },
  "language_info": {
   "codemirror_mode": {
    "name": "ipython",
    "version": 3
   },
   "file_extension": ".py",
   "mimetype": "text/x-python",
   "name": "python",
   "nbconvert_exporter": "python",
   "pygments_lexer": "ipython3",
   "version": "3.9.15"
  }
 },
 "nbformat": 4,
 "nbformat_minor": 5
}
