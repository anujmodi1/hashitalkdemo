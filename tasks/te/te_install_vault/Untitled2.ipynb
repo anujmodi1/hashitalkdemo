{
 "cells": [
  {
   "cell_type": "code",
   "execution_count": 6,
   "id": "c6e5df74",
   "metadata": {},
   "outputs": [
    {
     "ename": "ModuleNotFoundError",
     "evalue": "No module named 'paramiko'",
     "output_type": "error",
     "traceback": [
      "\u001b[0;31m---------------------------------------------------------------------------\u001b[0m",
      "\u001b[0;31mModuleNotFoundError\u001b[0m                       Traceback (most recent call last)",
      "\u001b[0;32m/var/folders/zp/jjhb8rfx2xdcrq_h88dkyf680000gn/T/ipykernel_32959/474896782.py\u001b[0m in \u001b[0;36m<cell line: 2>\u001b[0;34m()\u001b[0m\n\u001b[1;32m      1\u001b[0m \u001b[0;31m#!/usr/bin/env python\u001b[0m\u001b[0;34m\u001b[0m\u001b[0;34m\u001b[0m\u001b[0m\n\u001b[0;32m----> 2\u001b[0;31m \u001b[0;32mimport\u001b[0m \u001b[0mparamiko\u001b[0m\u001b[0;34m\u001b[0m\u001b[0;34m\u001b[0m\u001b[0m\n\u001b[0m\u001b[1;32m      3\u001b[0m \u001b[0;32mimport\u001b[0m \u001b[0mjson\u001b[0m\u001b[0;34m,\u001b[0m \u001b[0mre\u001b[0m\u001b[0;34m,\u001b[0m \u001b[0msys\u001b[0m\u001b[0;34m,\u001b[0m \u001b[0mos\u001b[0m\u001b[0;34m,\u001b[0m \u001b[0mjson\u001b[0m\u001b[0;34m,\u001b[0m \u001b[0mtime\u001b[0m\u001b[0;34m,\u001b[0m \u001b[0mlogging\u001b[0m\u001b[0;34m,\u001b[0m \u001b[0mrequests\u001b[0m\u001b[0;34m,\u001b[0m \u001b[0murllib3\u001b[0m\u001b[0;34m,\u001b[0m \u001b[0mparamiko\u001b[0m\u001b[0;34m\u001b[0m\u001b[0;34m\u001b[0m\u001b[0m\n\u001b[1;32m      4\u001b[0m \u001b[0murllib3\u001b[0m\u001b[0;34m.\u001b[0m\u001b[0mdisable_warnings\u001b[0m\u001b[0;34m(\u001b[0m\u001b[0;34m)\u001b[0m\u001b[0;34m\u001b[0m\u001b[0;34m\u001b[0m\u001b[0m\n\u001b[1;32m      5\u001b[0m \u001b[0;32mfrom\u001b[0m \u001b[0mrequests\u001b[0m\u001b[0;34m.\u001b[0m\u001b[0mstructures\u001b[0m \u001b[0;32mimport\u001b[0m \u001b[0mCaseInsensitiveDict\u001b[0m\u001b[0;34m\u001b[0m\u001b[0;34m\u001b[0m\u001b[0m\n",
      "\u001b[0;31mModuleNotFoundError\u001b[0m: No module named 'paramiko'"
     ]
    }
   ],
   "source": [
    "#!/usr/bin/env python\n",
    "import paramiko\n",
    "import json, re, sys, os, json, time, logging, requests, urllib3, paramiko\n",
    "urllib3.disable_warnings()\n",
    "from requests.structures import CaseInsensitiveDict\n",
    "import subprocess\n",
    "from subprocess import call, check_output\n",
    "\n",
    "VAULT_ADDR = 'http://dev-devops-ontap.com:8200'\n",
    "VAULT_TOKEN = 'hvs.CAESIIdwYYkVilZF-ltcsbMqKUQX5Mb_omKKQUFzSFwo8gohGh4KHGh2cy5rTVR0SFJlNDVKNkZFOEZlQW5TSlJmNFY'\n",
    "device = '35.88.147.17'\n",
    "\n",
    "os.chmod(\"us-west-1a.pem\", 400)\n",
    "\n"
   ]
  },
  {
   "cell_type": "code",
   "execution_count": 4,
   "id": "22c60068",
   "metadata": {},
   "outputs": [
    {
     "ename": "NameError",
     "evalue": "name 'paramiko' is not defined",
     "output_type": "error",
     "traceback": [
      "\u001b[0;31m---------------------------------------------------------------------------\u001b[0m",
      "\u001b[0;31mNameError\u001b[0m                                 Traceback (most recent call last)",
      "\u001b[0;32m/var/folders/zp/jjhb8rfx2xdcrq_h88dkyf680000gn/T/ipykernel_32959/2557279887.py\u001b[0m in \u001b[0;36m<cell line: 2>\u001b[0;34m()\u001b[0m\n\u001b[1;32m      1\u001b[0m \u001b[0mprivate_key\u001b[0m \u001b[0;34m=\u001b[0m \u001b[0;34m'us-west-1a.pem'\u001b[0m\u001b[0;34m\u001b[0m\u001b[0;34m\u001b[0m\u001b[0m\n\u001b[0;32m----> 2\u001b[0;31m \u001b[0mkey\u001b[0m \u001b[0;34m=\u001b[0m \u001b[0mparamiko\u001b[0m\u001b[0;34m.\u001b[0m\u001b[0mRSAKey\u001b[0m\u001b[0;34m.\u001b[0m\u001b[0mfrom_private_key_file\u001b[0m\u001b[0;34m(\u001b[0m\u001b[0mprivate_key\u001b[0m\u001b[0;34m)\u001b[0m\u001b[0;34m\u001b[0m\u001b[0;34m\u001b[0m\u001b[0m\n\u001b[0m\u001b[1;32m      3\u001b[0m \u001b[0musername\u001b[0m\u001b[0;34m=\u001b[0m\u001b[0;34m'ubuntu'\u001b[0m\u001b[0;34m\u001b[0m\u001b[0;34m\u001b[0m\u001b[0m\n\u001b[1;32m      4\u001b[0m \u001b[0mcommandfile\u001b[0m\u001b[0;34m=\u001b[0m\u001b[0;34m'te-commandfile'\u001b[0m\u001b[0;34m\u001b[0m\u001b[0;34m\u001b[0m\u001b[0m\n\u001b[1;32m      5\u001b[0m \u001b[0;34m\u001b[0m\u001b[0m\n",
      "\u001b[0;31mNameError\u001b[0m: name 'paramiko' is not defined"
     ]
    }
   ],
   "source": [
    "private_key = 'us-west-1a.pem'\n",
    "key = paramiko.RSAKey.from_private_key_file(private_key)\n",
    "username='ubuntu'\n",
    "commandfile='te-commandfile'\n",
    "\n",
    "# Opens files in read mode\n",
    "\n",
    "f2 = open(commandfile,\"r\")\n",
    "\n",
    "# Creates list based on f1 and f2\n",
    "commands = f2.readlines()\n",
    "\n",
    "for device in device:\n",
    "    device = device.rstrip()\n",
    "    for command in commands:\n",
    "        con = paramiko.SSHClient()\n",
    "        con.load_system_host_keys()\n",
    "        con.connect(hostname=device, username=username, allow_agent=False, pkey=key, port=22, timeout=60)\n",
    "        print(\"=\"*50, command, \"=\"*50)\n",
    "        stdin, stdout, stderr = con.exec_command(command, get_pty=True)\n",
    "        print(stdout.read().decode())\n",
    "        err = stderr.read().decode()\n",
    "        time.sleep(3)\n",
    "        if err:\n",
    "            print(err)\n",
    "        f2.close()\n",
    "con.close()\n"
   ]
  },
  {
   "cell_type": "code",
   "execution_count": null,
   "id": "a7c2ab2c",
   "metadata": {},
   "outputs": [],
   "source": []
  },
  {
   "cell_type": "code",
   "execution_count": null,
   "id": "3906bfc2",
   "metadata": {},
   "outputs": [],
   "source": []
  },
  {
   "cell_type": "code",
   "execution_count": null,
   "id": "b76457c4",
   "metadata": {},
   "outputs": [],
   "source": []
  },
  {
   "cell_type": "code",
   "execution_count": null,
   "id": "107f86a0",
   "metadata": {},
   "outputs": [],
   "source": []
  },
  {
   "cell_type": "code",
   "execution_count": null,
   "id": "7af55f30",
   "metadata": {},
   "outputs": [],
   "source": []
  }
 ],
 "metadata": {
  "kernelspec": {
   "display_name": "Python 3 (ipykernel)",
   "language": "python",
   "name": "python3"
  },
  "language_info": {
   "codemirror_mode": {
    "name": "ipython",
    "version": 3
   },
   "file_extension": ".py",
   "mimetype": "text/x-python",
   "name": "python",
   "nbconvert_exporter": "python",
   "pygments_lexer": "ipython3",
   "version": "3.9.15"
  }
 },
 "nbformat": 4,
 "nbformat_minor": 5
}
